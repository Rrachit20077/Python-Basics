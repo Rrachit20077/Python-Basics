{
  "nbformat": 4,
  "nbformat_minor": 0,
  "metadata": {
    "colab": {
      "provenance": []
    },
    "kernelspec": {
      "name": "python3",
      "display_name": "Python 3"
    },
    "language_info": {
      "name": "python"
    }
  },
  "cells": [
    {
      "cell_type": "code",
      "execution_count": null,
      "metadata": {
        "id": "qNsamukCKWOb"
      },
      "outputs": [],
      "source": [
        "# Python_Basics"
      ]
    },
    {
      "cell_type": "markdown",
      "source": [
        "Q1 - Explain the key features of Python that make it a popular choice for programming."
      ],
      "metadata": {
        "id": "QRSOnPySKY5L"
      }
    },
    {
      "cell_type": "markdown",
      "source": [
        "Ans- Python is a programming language and some of its key features of it that make it a popular choice for programming are :\n",
        "\n",
        "1. Easy to read and write\n",
        "2. It is compatible with various programming paradigms, such as procedural, object-oriented, and functional programming.\n",
        "3. Python can be used in diverse fields, including web development, data science, machine learning etc.\n",
        "4. Python has vast ecosystem of libraries and frameworks like NumPy, Pandas etc.\n",
        "5. Python has large active community of developers."
      ],
      "metadata": {
        "id": "PSF1dCaJLMfb"
      }
    },
    {
      "cell_type": "markdown",
      "source": [
        "Q2-  Describe the role of predefined keywords in Python and provide examples of how they are used in a program."
      ],
      "metadata": {
        "id": "XI9OZgl0LtMr"
      }
    },
    {
      "cell_type": "markdown",
      "source": [
        "Ans- Keywords are reserved words in Python that have special meanings that define the language's syntax and structure.  And cannot be used as variable or function names, and they play a crucial role in controlling program flow and functionality. Examples of keywords include if, else, while, class, import, try, except, return, True, False, None, etc. Keywords are case-sensitive and cannot be redefined."
      ],
      "metadata": {
        "id": "ieFt91W3Ml9s"
      }
    },
    {
      "cell_type": "code",
      "source": [
        "#Example -\n",
        "a = 10\n",
        "if a > 5:\n",
        "    print(\"a is greater than 5\")\n",
        "else:\n",
        "    print(\"a is not greater than 5\")"
      ],
      "metadata": {
        "colab": {
          "base_uri": "https://localhost:8080/"
        },
        "id": "-kD1VGK1Msu8",
        "outputId": "bc7940b7-217a-488b-f15c-9c1203509234"
      },
      "execution_count": null,
      "outputs": [
        {
          "output_type": "stream",
          "name": "stdout",
          "text": [
            "a is greater than 5\n"
          ]
        }
      ]
    },
    {
      "cell_type": "markdown",
      "source": [
        "Q3 - Compare and contrast mutable and immutable objects in Python with examples."
      ],
      "metadata": {
        "id": "gMU7JO72NDmV"
      }
    },
    {
      "cell_type": "markdown",
      "source": [
        "Ans - In Python, objects can be either changeable or unchangeable. The changeable is also called Mutable objects (like lists and dictionaries which can be modified.) The unchangeable is called immutable objects, such as tuples and strings which cannot be modified. Mutability affects how objects are stored and manipulated in memory, impacting performance, memory usage."
      ],
      "metadata": {
        "id": "0Tu5klXvNKaM"
      }
    },
    {
      "cell_type": "markdown",
      "source": [
        "Q4 - Discuss the different types of operators in Python and provide examples of how they are used."
      ],
      "metadata": {
        "id": "GSskR6q3NUkk"
      }
    },
    {
      "cell_type": "markdown",
      "source": [
        "Ans - Operators are special symbols or keywords that are used to carry out specific actions on numbers or variables in Python expressions. Different Types of Operators are :\n",
        "\n",
        "1. Arithmetic operators                                                                                                                                             example - (+,-,*, /, //, %) etc.\n",
        "\n",
        "2. Comparison operators\n",
        "        example - (==, !=, <,>,) etc.\n",
        "\n",
        "3. Assignment Operator\n",
        "       example - (+=, -=,) etc.\n",
        "\n",
        "4. Logical Operators\n",
        "       example - (and, or, not)\n",
        "\n",
        "And some other operators are :  \n",
        "\n",
        "5. Identity Operators\n",
        "6. Membership Operators\n",
        "7. Bitwise Operators\n",
        "8. String Operators"
      ],
      "metadata": {
        "id": "cqWC_tXWNd1k"
      }
    },
    {
      "cell_type": "markdown",
      "source": [
        "Q5- Explain the concept of type casting in Python with examples."
      ],
      "metadata": {
        "id": "KzcIEefbNvds"
      }
    },
    {
      "cell_type": "markdown",
      "source": [
        "Ans-\n",
        "1. Type casting, is referred to as type conversion, is the process of changing one data type to another in Python.\n",
        "2. Python provides built-in functions for type casting, such as int(), float(), str(), list(), tuple(), dict(), etc.\n",
        "3. Type casting is often necessary for performing arithmetic operations."
      ],
      "metadata": {
        "id": "7jXJf3amN_J9"
      }
    },
    {
      "cell_type": "markdown",
      "source": [
        "Q6-  How do conditional statements work in Python? Illustrate with examples."
      ],
      "metadata": {
        "id": "8cJeh9QHOsTV"
      }
    },
    {
      "cell_type": "markdown",
      "source": [
        "Ans - Conditionals in Python are used to execute code based on the evaluation of one or more conditions. It supports conditional statements such as if, elif (else if), and else to control the flow of execution."
      ],
      "metadata": {
        "id": "FCfhFEK_O0Ul"
      }
    },
    {
      "cell_type": "code",
      "source": [
        "#Example -\n",
        "number = 10\n",
        "if number > 6:\n",
        "    print(\"Number is greater than 6\")"
      ],
      "metadata": {
        "id": "2eggTA56PR6W"
      },
      "execution_count": null,
      "outputs": []
    },
    {
      "cell_type": "markdown",
      "source": [
        "Q7- Describe the different types of loops in Python and their use cases with examples."
      ],
      "metadata": {
        "id": "cxfVWgP9PkDe"
      }
    },
    {
      "cell_type": "markdown",
      "source": [
        "Ans - In Python, loops are employed to repeat a sequence of actions or code until a specific condition is fulfilled. Python's two types of loops are : for loops and while loops. “for” loops is used for iterating over a sequence of elements, while “while” loops are used for executing code."
      ],
      "metadata": {
        "id": "Y0N0ZKNOPpuO"
      }
    },
    {
      "cell_type": "code",
      "source": [
        "    fruits = [\"mango\", \"strawberry\", \"cherry\"]\n",
        "    for fruit in fruits:\n",
        "        print(fruit)"
      ],
      "metadata": {
        "id": "IMCVQUwzQ-lP"
      },
      "execution_count": null,
      "outputs": []
    }
  ]
}